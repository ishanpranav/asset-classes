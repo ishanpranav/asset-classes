{
  "cells": [
    {
      "cell_type": "markdown",
      "id": "8b2d34f0-78dd-493f-b658-06b488924399",
      "metadata": {},
      "source": [
        "# Asset classes\n",
        "\n",
        "This investigation examines the behavior of various asset classes over time to\n",
        "empirically test conventional notions about portfolio management.\n",
        "\n",
        "We will consider the following asset classes: equities, fixed-income securities\n",
        "(that is, debt instruments), and real estate.\n",
        "\n",
        "## Part 1\n",
        "\n",
        "### Question 1\n",
        "\n",
        "Which asset class offers the best (geometric) Sharpe ratio (risk-adjusted return)?\n",
        "\n",
        "* Who: this question affects risk-minimizing, return-maximizing investors\n",
        "* What: finance, portfolio theory\n",
        "* Where: United States\n",
        "* When: 1987–2023\n",
        "* Amount of data required: we would like to analyze the largest data set\n",
        "  possible while still keeping our series comparable and consistent. Since the\n",
        "  S&P Case–Shiller real estate index was introduced in 1978, this is the\n",
        "  earliest reasonable start date.\n",
        "\n",
        "### Question 2\n",
        "\n",
        "How are these variables correlated with each other? Specifically, is there a correlation between the presidential party and any of the financial metrics?\n",
        "\n",
        "* Who: this question affects researchers, institutions, and investors\n",
        "* What: finance, economics\n",
        "* Where: United States\n",
        "* When: 1987–2023\n",
        "* Amount of data required: annual time series since 1987\n",
        "\n",
        "### Relevant data sets\n",
        "\n",
        "FRED, the Federal Reserve Bank of St. Louis, offers the most relevant,\n",
        "consistent, and reliable consortium of economic and financial data. We wish to\n",
        "investigate equities, fixed-income securities, and real estate in relation to\n",
        "the risk-free rate.\n",
        "\n",
        "We will use the S&P 500 Index as a proxy for the U.S. equities market. We use an\n",
        "adjusted time series that includes the total returns for the index: that is, the\n",
        "sum of price returns and the annual dividend yield. We recognize that the S&P\n",
        "500 Index disproportionately overrepresents large-capitalization companies, but\n",
        "given that it historically accounts for 75 percent of the U.S. equity market\n",
        "(per FRED), it is a relatively good proxy.\n",
        "\n",
        "We will use the ICE BofA U.S. Corporate Index as a proxy for the U.S. bond\n",
        "market, noting that this index is restricted to corporate bonds and is a total\n",
        "return index.\n",
        "\n",
        "We will use the S&P Case–Shiller Index as a proxy for the U.S. real estate\n",
        "market, recognizing, of course, that this index restricts itself to residential\n",
        "real estate.\n",
        "\n",
        "Finally, we will use the U.S. 10-year Treasury bond rate as a proxy for the\n",
        "risk-free rate. This is the most appropriate proxy because:\n",
        "\n",
        "1. our assets are U.S.-based and dollar-denominated,\n",
        "2. our assets have long durations, and\n",
        "3. we seek a risk-free rate with a minimal illiquidity premium.\n",
        "\n",
        "Although each decision is flawed, these appear to be the best proxies available\n",
        "as corroborated by\n",
        "[FRED's own articles](https://fredblog.stlouisfed.org/2022/10/real-returns-on-major-asset-classes-since-the-start-of-the-pandemic)\n",
        "and the general conventions among financial economists.\n",
        "\n",
        "## Part 2\n",
        "\n",
        "### S&P 500 Index Total Returns\n",
        "\n",
        "1. __Title:__ S&P 500 Total Returns (SP500)\n",
        "2. __URL:__ [https://www.slickcharts.com/sp500/returns](https://www.slickcharts.com/sp500/returns)\n",
        "3. __Source:__\n",
        "   * __Source:__ Slickcharts\n",
        "   * __Publisher:__ S&P Dow Jones Indices LLC\n",
        "   * __Publication date:__ 2025-02-12\n",
        "   * __Access date:__ 2025-02-13\n",
        "4. __License:__ Standard & Poors Release\n",
        "5. __Usable:__ Yes\n",
        "\n",
        "### ICE BofA U.S. Corporate Index\n",
        "\n",
        "1. __Title:__ ICE BofA US Corporate Index Total Return Index Value ([BAMLCC0A0CMTRIV](https://fred.stlouisfed.org/series/BAMLCC0A0CMTRIV))\n",
        "2. __URL:__ [https://fred.stlouisfed.org/series/BAMLCC0A0CMTRIV](https://fred.stlouisfed.org/series/BAMLCC0A0CMTRIV)\n",
        "3. __Source:__\n",
        "   * __Source:__ FRED, the Federal Reserve Bank of St. Louis \n",
        "   * __Publisher:__ Ice Data Indices, LLC\n",
        "   * __Publication date:__ 2025-02-12\n",
        "   * __Access date:__ 2025-02-13\n",
        "4. __License:__ ICE BofA Indices Release\n",
        "5. __Usable:__ Yes\n",
        "\n",
        "### S&P Case–Shiller Index\n",
        "\n",
        "1. __Title:__ S&P CoreLogic Case-Shiller U.S. National Home Price Index ([CSUSHPINSA](https://fred.stlouisfed.org/series/CSUSHPINSA))\n",
        "2. __URL:__ [https://fred.stlouisfed.org/series/CSUSHPINSA](https://fred.stlouisfed.org/series/CSUSHPINSA)\n",
        "3. __Source:__\n",
        "   * __Source:__ FRED, the Federal Reserve Bank of St. Louis\n",
        "   * __Publisher:__ S&P Dow Jones Indices LLC\n",
        "   * __Publication date:__ 2025-01-28\n",
        "   * __Access date:__ 2025-02-13\n",
        "4. __License:__ S&P CoreLogic Case-Shiller Home Price Indices Release\n",
        "5. __Usable:__ Yes\n",
        "\n",
        "### 10-year U.S. Treasury yield\n",
        "\n",
        "1. __Title:__ Market Yield on U.S. Treasury Securities at 10-Year Constant Maturity, Quoted on an Investment Basis ([DGS10](https://fred.stlouisfed.org/series/DGS10))\n",
        "2. __URL:__ [https://fred.stlouisfed.org/series/DGS10](https://fred.stlouisfed.org/series/DGS10)\n",
        "3. __Source:__\n",
        "   * __Source:__ FRED, the Federal Reserve Bank of St. Louis\n",
        "   * __Publisher:__ Board of Governors of the Federal Reserve System (US)\n",
        "   * __Publication date:__ 2025-02-12\n",
        "   *  __Access date:__ 2025-02-13\n",
        "4. __License:__ H.15 Selected Interest Rates Release\n",
        "5. __Usable:__ Yes\n",
        "\n",
        "### U.S. presidential party\n",
        "\n",
        "1. __Title:__ List of presidents of the United States\n",
        "2. __URL:__ [https://en.wikipedia.org/wiki/List_of_presidents_of_the_United_States](https://en.wikipedia.org/wiki/List_of_presidents_of_the_United_States)\n",
        "3. __Source:__\n",
        "   * __Source:__ Wikipedia\n",
        "   * __Publisher:__ Wikimedia Foundation\n",
        "   * __Publication date:__ 2025-02-13\n",
        "   *  __Access date:__ 2025-02-13\n",
        "4. __License:__ Creative Commons Attribution Share-Alike 4.0 license\n",
        "5. __Usable:__ Yes\n",
        "\n",
        "### Overview\n",
        "\n",
        "* __Format:__ Comma-delimited (CSV)\n",
        "* __Size:__ 2 KB\n",
        "* __Observations:__ 38\n",
        "\n",
        "### Sample"
      ]
    },
    {
      "cell_type": "code",
      "execution_count": 1,
      "id": "8ce96c71-86e7-4b3c-8dfe-ef88a88cf318",
      "metadata": {
        "trusted": true
      },
      "outputs": [
        {
          "name": "stdout",
          "output_type": "stream",
          "text": [
            "observation_date,BAMLCC0A0CMTRIV,DGS10,CSUSHPINSA,SP500,Party\n",
            "1/1/1987,357.67,8.83,68.342,5.25,R\n",
            "1/1/1988,392.57,9.14,73.277,16.61,R\n",
            "1/1/1989,447.98,7.93,76.497,31.69,R\n",
            "1/1/1990,481,8.08,75.972,-3.1,R\n"
          ]
        }
      ],
      "source": [
        "from itertools import islice\n",
        "\n",
        "with open('../data/raw/fredgraph.csv') as stream:\n",
        "    for line in islice(stream, 0, 5):\n",
        "        print(line, end=\"\")"
      ]
    },
    {
      "cell_type": "markdown",
      "id": "bebbc5e2-3112-44ac-8fb5-659c5c99158b",
      "metadata": {},
      "source": [
        "### Fields\n",
        "\n",
        "* __Observation date__ (`observation_date`): `str`\n",
        "* __ICE BofA U.S. Corporate Index__ (`BAMLCC0A0CMTRIV`): `Decimal`\n",
        "* __10-year U.S. Treasury yield__ (`DGS10`): `Decimal`\n",
        "* __S&P Case–Shiller Index__ (`CSUSHPINSA`): `Decimal`\n",
        "* __S&P 500 Index returns__ (`SP500`): `Decimal`\n",
        "* __ICE BofA U.S. Corporate Index returns__: `Decimal` (calculated column)\n",
        "* __S&P Case–Shiller Index returns__: `Decimal` (calculated column)\n",
        "* __U.S. presidential party__: `bool`\n",
        "\n",
        "## Part 3\n",
        "\n",
        "The datasets have been merged using FRED's composite graph feature; as a result, minimal sanitization is required. The dataset from outside of FRED was (fortunately) in the same format and trivial to merge manually while downloading data. We will use all columns. The table of U.S. presidents had to be manually merged.\n",
        "\n",
        "The parser is trivial to implement using the Python `csv` module. We do additional processing to express rates as decimal percentages and calculate annual rates of return for levels whose annual change is not already given. We also remove the first year as its rate of returns cannot be determined without prior data."
      ]
    },
    {
      "cell_type": "code",
      "execution_count": 2,
      "id": "deb23cf9-f0ce-45b6-9230-550a243d02fa",
      "metadata": {
        "scrolled": true,
        "trusted": true
      },
      "outputs": [
        {
          "name": "stdout",
          "output_type": "stream",
          "text": [
            "['1/1/1987', Decimal('357.67'), Decimal('0.0883'), Decimal('68.342'), Decimal('0.0525'), 0, 0, 1]\n",
            "['1/1/1988', Decimal('392.57'), Decimal('0.0914'), Decimal('73.277'), Decimal('0.1661'), Decimal('0.097575977856683535102189169'), Decimal('0.072210353808785227239472067'), 1]\n",
            "['1/1/1989', Decimal('447.98'), Decimal('0.0793'), Decimal('76.497'), Decimal('0.3169'), Decimal('0.141146801844257075171307028'), Decimal('0.043942847005199448667385401'), 1]\n",
            "['1/1/1990', Decimal('481'), Decimal('0.0808'), Decimal('75.972'), Decimal('-0.031'), Decimal('0.073708647707486941381311666'), Decimal('-0.0068630142358523863680928664'), 1]\n",
            "['1/1/1991', Decimal('568.73'), Decimal('0.0671'), Decimal('75.843'), Decimal('0.3047'), Decimal('0.182390852390852390852390852'), Decimal('-0.0016979939977886589796240720'), 1]\n"
          ]
        }
      ],
      "source": [
        "from csv import reader\n",
        "from decimal import Decimal\n",
        "from itertools import islice\n",
        "\n",
        "def parse_party(party):\n",
        "    match party:\n",
        "        case 'D': return 0\n",
        "        case 'R': return 1\n",
        "\n",
        "with open('../data/raw/fredgraph.csv') as stream:\n",
        "    csvReader = reader(stream)\n",
        "    header = next(csvReader)\n",
        "    rows = [\n",
        "        [\n",
        "            date,\n",
        "            Decimal(v_debt),\n",
        "            Decimal(r_free) / 100,\n",
        "            Decimal(v_real),\n",
        "            Decimal(r_equity) / 100,\n",
        "            0,\n",
        "            0,\n",
        "            parse_party(party)\n",
        "        ] for [ date, v_debt, r_free, v_real, r_equity, party ]  in csvReader ]\n",
        "\n",
        "for i in range(1, len(rows)):\n",
        "    rows[i][5] = (rows[i][1] / rows[i - 1][1]) - 1\n",
        "    rows[i][6] = (rows[i][3] / rows[i - 1][3]) - 1\n",
        "\n",
        "rows.pop()\n",
        "\n",
        "for row in islice(rows, 5):\n",
        "    print(row)"
      ]
    },
    {
      "cell_type": "markdown",
      "id": "fbfdeb10-cbe6-4e73-9fcd-279805c6edaf",
      "metadata": {},
      "source": [
        "## Part 4\n",
        "\n",
        "### Central tendency\n",
        "\n",
        "To answer Question 1, we need to compute geometric mean annual returns for the three indices. These statistics are measures of central tendency. We can also compute the arithmetic mean of the risk-free rate to determine the historical risk-free rate."
      ]
    },
    {
      "cell_type": "code",
      "execution_count": 3,
      "id": "968ea341-befd-4d0e-8b3f-25c66631e905",
      "metadata": {
        "trusted": true
      },
      "outputs": [
        {
          "name": "stdout",
          "output_type": "stream",
          "text": [
            "Historical risk-free rate: 0.04498055555555556\n",
            "Mean return of equity: 0.10365544817440608 Risk premium: 0.058674892618850526\n",
            "Mean return of debt: 0.060738076908392724 Risk premium: 0.015757521352837166\n",
            "Mean return of real estate: 0.04139202480516757 Risk premium: -0.0035885307503879874\n"
          ]
        }
      ],
      "source": [
        "from statistics import geometric_mean, mean\n",
        "\n",
        "r_free = float(mean(row[2] for row in rows))\n",
        "mu_equity = geometric_mean((1 + row[4]) for row in rows) - 1\n",
        "mu_debt = geometric_mean((1 + row[5]) for row in rows) - 1\n",
        "mu_real = geometric_mean((1 + row[6]) for row in rows) - 1\n",
        "\n",
        "print(\"Historical risk-free rate:\", r_free)\n",
        "print(\"Mean return of equity:\", mu_equity, \"Risk premium:\", mu_equity - r_free)\n",
        "print(\"Mean return of debt:\", mu_debt, \"Risk premium:\", mu_debt - r_free)\n",
        "print(\"Mean return of real estate:\", mu_real, \"Risk premium:\", mu_real - r_free)"
      ]
    },
    {
      "cell_type": "markdown",
      "id": "33c93278-2ba7-41fa-9812-c5fcc2ad509a",
      "metadata": {},
      "source": [
        "Interestingly, real estate has a marginally negative risk premium, suggesting that it does in fact function as a hedge against market volatility and is an asset class in its own right (at least, to the extent that it is residential real estate, and not securitized).\n",
        "\n",
        "### Dispersion\n",
        "\n",
        "To answer Question 1, we will also need to compute the standard deviation of returns for the three indices. These statistics are measures of dispersion. We will use a traditional (arithmetic) standard deviation, rather than the corresponding geometric standard deviation, as this is the conventional measure of volatility used in the Sharpe ratio and in portfolio theory."
      ]
    },
    {
      "cell_type": "code",
      "execution_count": 4,
      "id": "1e2e6af9-22af-46b9-90ec-40128f277315",
      "metadata": {
        "trusted": true
      },
      "outputs": [
        {
          "name": "stdout",
          "output_type": "stream",
          "text": [
            "Standard deviation of return of equity: 0.17360422172743178\n",
            "Standard deviation of return of debt: 0.07489108533275876\n",
            "Standard deviation of return of real estate: 0.05981014982248648\n"
          ]
        }
      ],
      "source": [
        "from statistics import stdev\n",
        "\n",
        "sigma_equity = float(stdev(row[4] for row in rows))\n",
        "sigma_debt = float(stdev(row[5] for row in rows))\n",
        "sigma_real = float(stdev(row[6] for row in rows))\n",
        "\n",
        "print(\"Standard deviation of return of equity:\", sigma_equity)\n",
        "print(\"Standard deviation of return of debt:\", sigma_debt)\n",
        "print(\"Standard deviation of return of real estate:\", sigma_real)"
      ]
    },
    {
      "cell_type": "markdown",
      "id": "1a5530cb-8217-409b-9eb5-eba5d29b7221",
      "metadata": {},
      "source": [
        "### Outliers\n",
        "\n",
        "We can test the range and extrema to determine if we have problematic outliers."
      ]
    },
    {
      "cell_type": "code",
      "execution_count": 5,
      "id": "ca393b93-c16c-46b2-be3e-be59642a8a5a",
      "metadata": {
        "trusted": true
      },
      "outputs": [
        {
          "name": "stdout",
          "output_type": "stream",
          "text": [
            "Equity: -0.37 to 0.3758 (range: 0.7458)\n",
            "Debt: -0.1544430389418546408469237887 to 0.215506887501668124731246571 (range: 0.3699499264435227655781703597)\n",
            "Real estate: -0.1199520007384501776895740066 to 0.188646236036082166295433404 (range: 0.3085982367745323439850074106)\n"
          ]
        }
      ],
      "source": [
        "max_equity = max(row[4] for row in rows)\n",
        "max_debt = max(row[5] for row in rows)\n",
        "max_real = max(row[6] for row in rows)\n",
        "\n",
        "min_equity = min(row[4] for row in rows)\n",
        "min_debt = min(row[5] for row in rows)\n",
        "min_real = min(row[6] for row in rows)\n",
        "\n",
        "print(f\"Equity: {min_equity} to {max_equity} (range: {max_equity - min_equity})\")\n",
        "print(f\"Debt: {min_debt} to {max_debt} (range: {max_debt - min_debt})\")\n",
        "print(f\"Real estate: {min_real} to {max_real} (range: {max_real - min_real})\")"
      ]
    },
    {
      "cell_type": "markdown",
      "id": "fa663957-d727-4ebe-be50-99c55b778800",
      "metadata": {},
      "source": [
        "Based on these results, we do not have evidence of problematic outliers.\n",
        "\n",
        "### Sharpe ratios\n",
        "\n",
        "We will answer Question 1 by computing geometric Sharpe ratios."
      ]
    },
    {
      "cell_type": "code",
      "execution_count": 6,
      "id": "39f01c01-8c27-448a-9109-aad1ad9480ac",
      "metadata": {
        "scrolled": true,
        "trusted": true
      },
      "outputs": [
        {
          "name": "stdout",
          "output_type": "stream",
          "text": [
            "Sharpe ratio of equity: 0.337980793525709\n",
            "Sharpe ratio of debt: 0.21040583512473857\n",
            "Sharpe ratio of real: -0.059998691878194024\n"
          ]
        }
      ],
      "source": [
        "sharpe_equity = (mu_equity - r_free) / sigma_equity\n",
        "sharpe_debt = (mu_debt - r_free) / sigma_debt\n",
        "sharpe_real = (mu_real - r_free) / sigma_real\n",
        "\n",
        "print(\"Sharpe ratio of equity:\", sharpe_equity)\n",
        "print(\"Sharpe ratio of debt:\", sharpe_debt)\n",
        "print(\"Sharpe ratio of real:\", sharpe_real)"
      ]
    },
    {
      "cell_type": "markdown",
      "id": "8c5cd827-e28e-4ed5-bcf1-929f60098beb",
      "metadata": {},
      "source": [
        "### Correlations\n",
        "\n",
        "We will answer Question 2 by computing the correlation matrix. Later, we will visualize the matrix."
      ]
    },
    {
      "cell_type": "code",
      "execution_count": 7,
      "id": "b57259ca-b816-4a87-a993-3ac0a29d1394",
      "metadata": {
        "scrolled": true,
        "trusted": true
      },
      "outputs": [
        {
          "name": "stdout",
          "output_type": "stream",
          "text": [
            "[[1.0, 0.5055878369216433, 0.2449449075836565, 0.07262788183939194, -0.20256920130932937], [0.5055878369216433, 1.0, -0.09841447569363077, 0.12867964469057028, 0.08691261967084374], [0.2449449075836565, -0.09841447569363077, 1.0, -0.13680376359158894, -0.0338759685937076], [0.07262788183939194, 0.12867964469057028, -0.13680376359158894, 1.0, 0.1812899243222519], [-0.20256920130932937, 0.08691261967084374, -0.0338759685937076, 0.1812899243222519, 1.0]]\n"
          ]
        }
      ],
      "source": [
        "from statistics import correlation\n",
        "\n",
        "axis = ( \"Return of equity\", \"Return of debt\", \"Return of real estate\", \"Risk-free rate\", \"Party\" )\n",
        "indices = ( 4, 5, 6, 2, 7 ) \n",
        "matrix = [\n",
        "    [\n",
        "        correlation([float(row[i]) for row in rows],\n",
        "                    [float(row[j]) for row in rows])\n",
        "        for i in indices\n",
        "    ]\n",
        "    for j in indices\n",
        "]\n",
        "\n",
        "print(matrix)"
      ]
    },
    {
      "cell_type": "markdown",
      "id": "6f9201b6-210d-472f-bc35-3c70f08fd8a9",
      "metadata": {},
      "source": [
        "### Frequency"
      ]
    },
    {
      "cell_type": "code",
      "execution_count": 8,
      "id": "8d3ec200-394c-48bf-a7c6-22f8846fa3ff",
      "metadata": {
        "trusted": true
      },
      "outputs": [
        {
          "name": "stdout",
          "output_type": "stream",
          "text": [
            "Mode of party: 1\n"
          ]
        }
      ],
      "source": [
        "from statistics import mode\n",
        "\n",
        "print(\"Mode of party:\", mode(row[7] for row in rows))"
      ]
    },
    {
      "cell_type": "markdown",
      "id": "f71eb841-d31a-4d89-b504-0120a38c266f",
      "metadata": {},
      "source": [
        "There are more years with Democratic presidents than Republican presidents in the sample.\n",
        "\n",
        "### Unique values"
      ]
    },
    {
      "cell_type": "code",
      "execution_count": 9,
      "id": "e6f0f1dc-a176-442b-9bb2-3e5191d2632e",
      "metadata": {
        "trusted": true
      },
      "outputs": [
        {
          "name": "stdout",
          "output_type": "stream",
          "text": [
            "Values for party: {0, 1}\n"
          ]
        }
      ],
      "source": [
        "print(\"Values for party:\", set(row[7] for row in rows))"
      ]
    },
    {
      "cell_type": "markdown",
      "id": "3c400a71-6d01-4e74-bd08-a0631c6a9b6a",
      "metadata": {},
      "source": [
        "The unique values are, of course, `0` (indicating Democratic Party) and `1` (indicating Republican Party).\n",
        "\n",
        "## Part 5"
      ]
    },
    {
      "cell_type": "code",
      "execution_count": 41,
      "id": "45bfa79a-bf49-4123-bcf7-44f7e944069f",
      "metadata": {
        "trusted": true
      },
      "outputs": [
        {
          "data": {
            "image/png": "[encoded data removed]",
            "text/plain": [
              "<Figure size 640x480 with 1 Axes>"
            ]
          },
          "metadata": {},
          "output_type": "display_data"
        }
      ],
      "source": [
        "%pip install matplotlib\n",
        "\n",
        "from matplotlib.pyplot import show, subplots, title\n",
        "\n",
        "for row in matrix:\n",
        "    for i in range(len(row)):\n",
        "        row[i] = round(row[i], 3)\n",
        "\n",
        "# https://stackoverflow.com/questions/32137396/how-do-i-plot-only-a-table-in-matplotlib\n",
        "\n",
        "fig, ax = subplots()\n",
        "fig.patch.set_visible(False)\n",
        "ax.axis('tight')\n",
        "ax.axis('off')\n",
        "ax.table(cellText = matrix, rowLabels = axis, colLabels = axis, loc = 'center')\n",
        "fig.tight_layout()\n",
        "title(\"Correlations across asset classes\")\n",
        "show()"
      ]
    },
    {
      "cell_type": "markdown",
      "id": "8004ef3c-7265-41af-aed6-f1eb1ad06cbc",
      "metadata": {},
      "source": [
        "Based on this table, we observe that, statistically, there is no correlation between party and the returns of any asset class, nor between party and the risk free rate. We conclude that presidential party has no meaningful relationship with investment returns."
      ]
    },
    {
      "cell_type": "code",
      "execution_count": 40,
      "id": "e38d1462-d4d7-4dd0-bcbb-aa465f1eab44",
      "metadata": {
        "trusted": true
      },
      "outputs": [
        {
          "data": {
            "image/png": "[encoded data removed]",
            "text/plain": [
              "<Figure size 640x480 with 1 Axes>"
            ]
          },
          "metadata": {},
          "output_type": "display_data"
        }
      ],
      "source": [
        "%pip install matplotlib\n",
        "\n",
        "from matplotlib.pyplot import plot, show, subplots, title, xticks\n",
        "\n",
        "years = [ int(row[0][-4:]) for row in rows ]\n",
        "plot(years, [ row[4] - row[2] for row in rows ], color = 'darkblue')   # equity\n",
        "plot(years, [ row[5] - row[2] for row in rows ], color = 'darkgreen')  # debt\n",
        "plot(years, [ row[6] - row[2] for row in rows ], color = 'darkred')    # real\n",
        "title(\"Premia of equity, debt, and real estate investments\")\n",
        "xticks(rotation = 30)\n",
        "show()"
      ]
    },
    {
      "cell_type": "markdown",
      "id": "c7364fba-87a5-4c06-8bed-49d6ad143cd5",
      "metadata": {},
      "source": [
        "Based on this chart, the returns of equity, debt, and real estate investments above the risk-free rate are different in nature. Real estate experiences the lowest returns with the lowest volality, followed by debt, followed by equity. There is a clear relationship between standard deviation and returns: High volatility implies high returns, confirming the existence of a volatility risk premium. "
      ]
    },
    {
      "cell_type": "markdown",
      "id": "d0379eaa-2b04-4d51-8aaf-e63677e0f0c1",
      "metadata": {},
      "source": [
        "## Part 6\n",
        "\n",
        "Based on our analysis, presidential party does not at all explain investment returns, for any asset class. There is a moderate correlation between the returns of equities and the returns of fixed-income securities, which introduces some doubt about the diversification benefits of bonds and other debt instruments within a portfolio. However, it is clear that residential real estate is a separate and distinct asset class which behaves differently from financial assets."
      ]
    }
  ],
  "metadata": {
    "kernelspec": {
      "display_name": "Python (Pyodide)",
      "language": "python",
      "name": "python"
    },
    "language_info": {
      "codemirror_mode": {
        "name": "python",
        "version": 3
      },
      "file_extension": ".py",
      "mimetype": "text/x-python",
      "name": "python",
      "nbconvert_exporter": "python",
      "pygments_lexer": "ipython3",
      "version": "3.8"
    },
    "widgets": {
      "application/vnd.jupyter.widget-state+json": {
        "state": {},
        "version_major": 2,
        "version_minor": 0
      }
    }
  },
  "nbformat": 4,
  "nbformat_minor": 5
}
