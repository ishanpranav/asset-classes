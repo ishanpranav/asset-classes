{
 "cells": [
  {
   "cell_type": "markdown",
   "metadata": {},
   "source": [
    "# Asset classes\n",
    "\n",
    "This investigation examines the behavior of various asset classes over time to\n",
    "empirically test conventional notions about portfolio management.\n",
    "\n",
    "We will consider the following asset classes: equities, fixed-income securities\n",
    "(that is, debt instruments), and real estate.\n",
    "\n",
    "## Part 1\n",
    "\n",
    "### Question 1\n",
    "\n",
    "Which asset class offers the best Sharpe ratio (risk-adjusted return)?\n",
    "\n",
    "__Hypothesis:__ Real estate. Real estate is highly illiquid, so its volatility\n",
    "is generally low, which should drive up its Sharpe ratio.\n",
    "\n",
    "* Who: this question affects risk-minimizing, return-maximizing investors\n",
    "* What: finance\n",
    "* Where: United States\n",
    "* When: 1987–_present_\n",
    "* Amount of data required: we would like to analyze the largest data set\n",
    "  possible while still keeping our series comparable and consistent. Since the\n",
    "  S&P Case–Shiller real estate index was introduced in 1978, this is the earliest\n",
    "  reasonable start date.\n",
    "\n",
    "### Question 2 \n",
    "\n",
    "How are these asset classes correlated with interest rates?\n",
    "\n",
    "__Hypothesis:__ All three asset classes should exhibit a strong positive\n",
    "correlation with interest rates. However, the illiquidity and lock-in effects of\n",
    "real estate may cause surprising results.\n",
    "\n",
    "* Who: this question affects researchers, instutitons, and investors\n",
    "* What: finance, economics\n",
    "* Where: United States\n",
    "* When: 1987–_present_\n",
    "* Amount of data required: annual time series since 1987\n",
    "\n",
    "### Question 3\n",
    "\n",
    "How are these asset classes correlated with each other?\n",
    "\n",
    "__Hypothesis:__ All three asset classes should be positively correlated with\n",
    "one another, since they all move inversely to interest rates.\n",
    "\n",
    "* Who: this question affects researchers, instutitons, and investors\n",
    "* What: finance, economics\n",
    "* Where: United States\n",
    "* When: 1987–_present_\n",
    "* Amount of data required: annual time series since 1987\n",
    "\n",
    "### Relevant data sets\n",
    "\n",
    "FRED, the Federal Reserve Bank of St. Louis, offers the most relevant,\n",
    "consistent, and reliable consortium of economic and financial data. We wish to\n",
    "investigate equities, fixed-income securities, and real estate in relation to\n",
    "the risk-free rate.\n",
    "\n",
    "We will use the S&P 500 Index as a proxy for the U.S. equities market. We use an\n",
    "adjusted time series that includes the total returns for the index: that is, the\n",
    "sum of price returns and the annual dividend yield. We recognize that the S&P\n",
    "500 Index disproportionately overrepresents large-capitalization companies, but\n",
    "given that it historically accounts for 75 percent of the U.S. equity market\n",
    "(per FRED), it is a relatively good proxy.\n",
    "\n",
    "We will use the ICE BofA U.S. Corporate Index as a proxy for the U.S. bond\n",
    "market, noting that this index is restricted to corporate bonds and is a total\n",
    "return index.\n",
    "\n",
    "We will use the S&P Case–Shiller Index as a proxy for the U.S. real estate\n",
    "market, recognizing, of course, that this index restricts itself to residential\n",
    "real estate.\n",
    "\n",
    "Finally, we will use the U.S. 10-year Treasury bond rate as a proxy for the\n",
    "risk-free rate. This is the most appropriate proxy because:\n",
    "\n",
    "1. our assets are U.S.-based and dollar-denominated,\n",
    "2. our assets are have long durations, and\n",
    "3. we seek a risk-free rate with a minimal illiquidity premium.\n",
    "\n",
    "Although each decision is flawed, these appear to be the best proxies available\n",
    "as corroborated by\n",
    "[FRED's own articles](https://fredblog.stlouisfed.org/2022/10/real-returns-on-major-asset-classes-since-the-start-of-the-pandemic)\n",
    "and the general conventions among financial economists.\n",
    "\n",
    "## Part 2\n",
    "\n",
    "### S&P 500 Index\n",
    "\n",
    "1. __Title:__ S&P 500 Total Returns\n",
    "2. __URL:__ [https://www.slickcharts.com/sp500/returns](https://www.slickcharts.com/sp500/returns)\n",
    "3. __Source:__\n",
    "   * __Source:__ Slickcharts\n",
    "   * __Publisher:__ S&P Dow Jones Indices LLC\n",
    "   * __Publication date:__ 2025-02-12\n",
    "   * __Access date:__ 2025-02-13\n",
    "4. __License:__ Standard & Poors Release\n",
    "5. __Usable:__ Yes\n",
    "\n",
    "### ICE BofA U.S. Corporate Index\n",
    "\n",
    "1. __Title:__ ICE BofA US Corporate Index Total Return Index Value ([BAMLCC0A0CMTRIV](https://fred.stlouisfed.org/series/BAMLCC0A0CMTRIV))\n",
    "2. __URL:__ [https://fred.stlouisfed.org/series/BAMLCC0A0CMTRIV](https://fred.stlouisfed.org/series/BAMLCC0A0CMTRIV)\n",
    "3. __Source:__\n",
    "   * __Source:__ FRED, the Federal Reserve Bank of St. Louis \n",
    "   * __Publisher:__ Ice Data Indices, LLC\n",
    "   * __Publication date:__ 2025-02-12\n",
    "   * __Access date:__ 2025-02-13\n",
    "4. __License:__ ICE BofA Indices Release\n",
    "5. __Usable:__ Yes\n",
    "\n",
    "### S&P Case–Shiller Index\n",
    "\n",
    "1. __Title:__ S&P CoreLogic Case-Shiller U.S. National Home Price Index ([CSUSHPINSA](https://fred.stlouisfed.org/series/CSUSHPINSA))\n",
    "2. __URL:__ [https://fred.stlouisfed.org/series/CSUSHPINSA](https://fred.stlouisfed.org/series/CSUSHPINSA)\n",
    "3. __Source:__\n",
    "   * __Source:__ FRED, the Federal Reserve Bank of St. Louis\n",
    "   * __Publisher:__ S&P Dow Jones Indices LLC\n",
    "   * __Publication date:__ 2025-01-28\n",
    "   * __Access date:__ 2025-02-13\n",
    "4. __License:__ S&P CoreLogic Case-Shiller Home Price Indices Release\n",
    "5. __Usable:__ Yes\n",
    "\n",
    "### 10-year U.S. Treasury yield\n",
    "\n",
    "1. __Title:__ Market Yield on U.S. Treasury Securities at 10-Year Constant Maturity, Quoted on an Investment Basis ([DGS10](https://fred.stlouisfed.org/series/DGS10))\n",
    "2. __URL:__ [https://fred.stlouisfed.org/series/DGS10](https://fred.stlouisfed.org/series/DGS10)\n",
    "3. __Source:__\n",
    "   * __Source:__ FRED, the Federal Reserve Bank of St. Louis\n",
    "   * __Publisher:__ Board of Governors of the Federal Reserve System (US)\n",
    "   * __Publication date:__ 2025-02-12\n",
    "   *  __Access date:__ 2025-02-13\n",
    "4. __License:__ H.15 Selected Interest Rates Release\n",
    "5. __Usable:__ Yes"
   ]
  },
  {
   "cell_type": "markdown",
   "metadata": {},
   "source": [
    "## Format\n",
    "\n"
   ]
  },
  {
   "cell_type": "markdown",
   "metadata": {},
   "source": [
    "\n",
    "### Overview\n",
    "\n",
    "* Format: (TODO add what file format the data is in)\n",
    "* Size: (TODO how large is the file in KB, MB, GB, etc. ... use finder, windows explorer for this)\n",
    "* Number of Records: (TODO how many rows)\n",
    "\n"
   ]
  },
  {
   "cell_type": "markdown",
   "metadata": {},
   "source": [
    "### Sample of Data\n",
    "\n",
    "\n"
   ]
  },
  {
   "cell_type": "code",
   "execution_count": 1,
   "metadata": {},
   "outputs": [],
   "source": [
    "# TODO show a few lines of data from the actual file\n",
    "\n",
    "# Use \"regular\" Python to do this in this code block\n",
    "# Assume that jupyter-lab was started in your root directory\n",
    "# with open('./data/raw/example-data.csv', 'r'): "
   ]
  },
  {
   "cell_type": "markdown",
   "metadata": {},
   "source": [
    "\n",
    "### Fields or Column Headers\n",
    "\n",
    "* Field/Column 1: (TODO add field name and potential type using Python types)\n",
    "* Field/Column 2: (TODO same as above)\n",
    "* Field/Column N: (TODO same as above)"
   ]
  },
  {
   "cell_type": "markdown",
   "metadata": {},
   "source": [
    "## Part 3 - Extract / Transform\n",
    "\n",
    "TODO describe your process for extracting, transforming, cleaning your incoming data:\n",
    "\n",
    "* what columns you'll be using (extracting) from your dataset\n",
    "* how you're planning to convert the data into analogous python types / how you'll deal with type issues (for example, you may want a column that's numeric, but the data contains a label, such as 4 months) \n",
    "* any other kind of cleaning (_normalizing_ data, filling in missing values, etc.) that you'll have to perform\n"
   ]
  },
  {
   "cell_type": "code",
   "execution_count": 2,
   "metadata": {},
   "outputs": [],
   "source": [
    "# TODO write code here!\n"
   ]
  },
  {
   "cell_type": "markdown",
   "metadata": {},
   "source": [
    "## Part 4 - Descriptive Statistics\n",
    "\n",
    "### Analysis on Numeric Data\n",
    "\n",
    "#### Central Tendency\n",
    "\n"
   ]
  },
  {
   "cell_type": "code",
   "execution_count": 3,
   "metadata": {},
   "outputs": [],
   "source": [
    "# TODO: copy and paste your results here"
   ]
  },
  {
   "cell_type": "markdown",
   "metadata": {},
   "source": [
    "#### Dispersion"
   ]
  },
  {
   "cell_type": "code",
   "execution_count": 4,
   "metadata": {},
   "outputs": [],
   "source": [
    "# TODO: copy and paste your results here"
   ]
  },
  {
   "cell_type": "markdown",
   "metadata": {},
   "source": [
    "#### Outliers\n"
   ]
  },
  {
   "cell_type": "code",
   "execution_count": 5,
   "metadata": {},
   "outputs": [],
   "source": [
    "# TODO: copy and paste your results here"
   ]
  },
  {
   "cell_type": "markdown",
   "metadata": {},
   "source": [
    "#### Other\n"
   ]
  },
  {
   "cell_type": "code",
   "execution_count": 6,
   "metadata": {},
   "outputs": [],
   "source": [
    "# TODO: copy and paste your results here"
   ]
  },
  {
   "cell_type": "markdown",
   "metadata": {},
   "source": [
    "###  Analysis on Categorical Data"
   ]
  },
  {
   "cell_type": "markdown",
   "metadata": {},
   "source": [
    "#### Frequency"
   ]
  },
  {
   "cell_type": "code",
   "execution_count": 7,
   "metadata": {},
   "outputs": [],
   "source": [
    "# TODO: copy and paste your results here"
   ]
  },
  {
   "cell_type": "markdown",
   "metadata": {},
   "source": [
    "#### Unique Values"
   ]
  },
  {
   "cell_type": "code",
   "execution_count": 8,
   "metadata": {},
   "outputs": [],
   "source": [
    "# TODO: copy and paste your results here"
   ]
  },
  {
   "cell_type": "markdown",
   "metadata": {},
   "source": [
    "## Part 5 - Visualizations\n",
    "\n"
   ]
  },
  {
   "cell_type": "code",
   "execution_count": 9,
   "metadata": {},
   "outputs": [],
   "source": [
    "# TODO: add visualizations here"
   ]
  },
  {
   "cell_type": "markdown",
   "metadata": {},
   "source": [
    "TODO Describe the visualizations in the previous cell\n"
   ]
  },
  {
   "cell_type": "markdown",
   "metadata": {},
   "source": [
    "## Part 6 - Conclusion\n",
    "\n",
    "TODO: write your conclusion here (interpret results of calculations; does it help answer your original questions?)"
   ]
  }
 ],
 "metadata": {
  "kernelspec": {
   "display_name": "Python 3",
   "language": "python",
   "name": "python3"
  },
  "language_info": {
   "codemirror_mode": {
    "name": "ipython",
    "version": 3
   },
   "file_extension": ".py",
   "mimetype": "text/x-python",
   "name": "python",
   "nbconvert_exporter": "python",
   "pygments_lexer": "ipython3",
   "version": "3.8.10"
  }
 },
 "nbformat": 4,
 "nbformat_minor": 5
}
