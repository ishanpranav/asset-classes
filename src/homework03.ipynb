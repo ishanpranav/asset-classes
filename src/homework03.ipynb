{
  "metadata": {
    "kernelspec": {
      "name": "python",
      "display_name": "Python (Pyodide)",
      "language": "python"
    },
    "language_info": {
      "codemirror_mode": {
        "name": "python",
        "version": 3
      },
      "file_extension": ".py",
      "mimetype": "text/x-python",
      "name": "python",
      "nbconvert_exporter": "python",
      "pygments_lexer": "ipython3",
      "version": "3.8"
    }
  },
  "nbformat_minor": 5,
  "nbformat": 4,
  "cells": [
    {
      "id": "8b2d34f0-78dd-493f-b658-06b488924399",
      "cell_type": "markdown",
      "source": "# Asset classes\n\nThis investigation examines the behavior of various asset classes over time to\nempirically test conventional notions about portfolio management.\n\nWe will consider the following asset classes: equities, fixed-income securities\n(that is, debt instruments), and real estate.\n\n## Part 1\n\n### Question 1\n\nWhich asset class offers the best (geometric) Sharpe ratio (risk-adjusted return)?\n\n* Who: this question affects risk-minimizing, return-maximizing investors\n* What: finance, portfolio theory\n* Where: United States\n* When: 1987–2023\n* Amount of data required: we would like to analyze the largest data set\n  possible while still keeping our series comparable and consistent. Since the\n  S&P Case–Shiller real estate index was introduced in 1978, this is the\n  earliest reasonable start date.\n\n### Question 2\n\nHow are these variables correlated with each other? Specifically, is there a correlation between the presidential party and any of the financial metrics?\n\n* Who: this question affects researchers, institutions, and investors\n* What: finance, economics\n* Where: United States\n* When: 1987–2023\n* Amount of data required: annual time series since 1987\n\n### Relevant data sets\n\nFRED, the Federal Reserve Bank of St. Louis, offers the most relevant,\nconsistent, and reliable consortium of economic and financial data. We wish to\ninvestigate equities, fixed-income securities, and real estate in relation to\nthe risk-free rate.\n\nWe will use the S&P 500 Index as a proxy for the U.S. equities market. We use an\nadjusted time series that includes the total returns for the index: that is, the\nsum of price returns and the annual dividend yield. We recognize that the S&P\n500 Index disproportionately overrepresents large-capitalization companies, but\ngiven that it historically accounts for 75 percent of the U.S. equity market\n(per FRED), it is a relatively good proxy.\n\nWe will use the ICE BofA U.S. Corporate Index as a proxy for the U.S. bond\nmarket, noting that this index is restricted to corporate bonds and is a total\nreturn index.\n\nWe will use the S&P Case–Shiller Index as a proxy for the U.S. real estate\nmarket, recognizing, of course, that this index restricts itself to residential\nreal estate.\n\nFinally, we will use the U.S. 10-year Treasury bond rate as a proxy for the\nrisk-free rate. This is the most appropriate proxy because:\n\n1. our assets are U.S.-based and dollar-denominated,\n2. our assets have long durations, and\n3. we seek a risk-free rate with a minimal illiquidity premium.\n\nAlthough each decision is flawed, these appear to be the best proxies available\nas corroborated by\n[FRED's own articles](https://fredblog.stlouisfed.org/2022/10/real-returns-on-major-asset-classes-since-the-start-of-the-pandemic)\nand the general conventions among financial economists.\n\n## Part 2\n\n### S&P 500 Index Total Returns\n\n1. __Title:__ S&P 500 Total Returns (SP500)\n2. __URL:__ [https://www.slickcharts.com/sp500/returns](https://www.slickcharts.com/sp500/returns)\n3. __Source:__\n   * __Source:__ Slickcharts\n   * __Publisher:__ S&P Dow Jones Indices LLC\n   * __Publication date:__ 2025-02-12\n   * __Access date:__ 2025-02-13\n4. __License:__ Standard & Poors Release\n5. __Usable:__ Yes\n\n### ICE BofA U.S. Corporate Index\n\n1. __Title:__ ICE BofA US Corporate Index Total Return Index Value ([BAMLCC0A0CMTRIV](https://fred.stlouisfed.org/series/BAMLCC0A0CMTRIV))\n2. __URL:__ [https://fred.stlouisfed.org/series/BAMLCC0A0CMTRIV](https://fred.stlouisfed.org/series/BAMLCC0A0CMTRIV)\n3. __Source:__\n   * __Source:__ FRED, the Federal Reserve Bank of St. Louis \n   * __Publisher:__ Ice Data Indices, LLC\n   * __Publication date:__ 2025-02-12\n   * __Access date:__ 2025-02-13\n4. __License:__ ICE BofA Indices Release\n5. __Usable:__ Yes\n\n### S&P Case–Shiller Index\n\n1. __Title:__ S&P CoreLogic Case-Shiller U.S. National Home Price Index ([CSUSHPINSA](https://fred.stlouisfed.org/series/CSUSHPINSA))\n2. __URL:__ [https://fred.stlouisfed.org/series/CSUSHPINSA](https://fred.stlouisfed.org/series/CSUSHPINSA)\n3. __Source:__\n   * __Source:__ FRED, the Federal Reserve Bank of St. Louis\n   * __Publisher:__ S&P Dow Jones Indices LLC\n   * __Publication date:__ 2025-01-28\n   * __Access date:__ 2025-02-13\n4. __License:__ S&P CoreLogic Case-Shiller Home Price Indices Release\n5. __Usable:__ Yes\n\n### 10-year U.S. Treasury yield\n\n1. __Title:__ Market Yield on U.S. Treasury Securities at 10-Year Constant Maturity, Quoted on an Investment Basis ([DGS10](https://fred.stlouisfed.org/series/DGS10))\n2. __URL:__ [https://fred.stlouisfed.org/series/DGS10](https://fred.stlouisfed.org/series/DGS10)\n3. __Source:__\n   * __Source:__ FRED, the Federal Reserve Bank of St. Louis\n   * __Publisher:__ Board of Governors of the Federal Reserve System (US)\n   * __Publication date:__ 2025-02-12\n   *  __Access date:__ 2025-02-13\n4. __License:__ H.15 Selected Interest Rates Release\n5. __Usable:__ Yes\n\n### U.S. presidential party\n\n1. __Title:__ List of presidents of the United States\n2. __URL:__ [https://en.wikipedia.org/wiki/List_of_presidents_of_the_United_States](https://en.wikipedia.org/wiki/List_of_presidents_of_the_United_States)\n3. __Source:__\n   * __Source:__ Wikipedia\n   * __Publisher:__ Wikimedia Foundation\n   * __Publication date:__ 2025-02-13\n   *  __Access date:__ 2025-02-13\n4. __License:__ Creative Commons Attribution Share-Alike 4.0 license\n5. __Usable:__ Yes\n\n### Overview\n\n* __Format:__ Comma-delimited (CSV)\n* __Size:__ 2 KB\n* __Observations:__ 38\n\n### Sample",
      "metadata": {}
    },
    {
      "id": "8ce96c71-86e7-4b3c-8dfe-ef88a88cf318",
      "cell_type": "code",
      "source": "from itertools import islice\n\nwith open('../data/raw/fredgraph.csv') as stream:\n    for line in islice(stream, 0, 5):\n        print(line, end=\"\")",
      "metadata": {
        "trusted": true
      },
      "outputs": [
        {
          "name": "stdout",
          "output_type": "stream",
          "text": "observation_date,BAMLCC0A0CMTRIV,DGS10,CSUSHPINSA,SP500,Party\n1/1/1987,357.67,8.83,68.342,5.25,R\n1/1/1988,392.57,9.14,73.277,16.61,R\n1/1/1989,447.98,7.93,76.497,31.69,R\n1/1/1990,481,8.08,75.972,-3.1,R\n"
        }
      ],
      "execution_count": 1
    },
    {
      "id": "bebbc5e2-3112-44ac-8fb5-659c5c99158b",
      "cell_type": "markdown",
      "source": "### Fields\n\n* __Observation date__ (`observation_date`): `str`\n* __ICE BofA U.S. Corporate Index__ (`BAMLCC0A0CMTRIV`): `Decimal`\n* __10-year U.S. Treasury yield__ (`DGS10`): `Decimal`\n* __S&P Case–Shiller Index__ (`CSUSHPINSA`): `Decimal`\n* __S&P 500 Index returns__ (`SP500`): `Decimal`\n* __ICE BofA U.S. Corporate Index returns__: `Decimal` (calculated column)\n* __S&P Case–Shiller Index returns__: `Decimal` (calculated column)\n* __U.S. presidential party__: `bool`\n\n## Part 3\n\nThe datasets have been merged using FRED's composite graph feature; as a result, minimal sanitization is required. The dataset from outside of FRED was (fortunately) in the same format and trivial to merge manually while downloading data. We will use all columns. The table of U.S. presidents had to be manually merged.\n\nThe parser is trivial to implement using the Python `csv` module. We do additional processing to express rates as decimal percentages and calculate annual rates of return for levels whose annual change is not already given. We also remove the first year as its rate of returns cannot be determined without prior data.",
      "metadata": {}
    },
    {
      "id": "deb23cf9-f0ce-45b6-9230-550a243d02fa",
      "cell_type": "code",
      "source": "from csv import reader\nfrom decimal import Decimal\nfrom itertools import islice\n\ndef parse_party(party):\n    match party:\n        case 'D': return 0\n        case 'R': return 1\n\nwith open('../data/raw/fredgraph.csv') as stream:\n    csvReader = reader(stream)\n    header = next(csvReader)\n    rows = [\n        [\n            date,\n            Decimal(v_debt),\n            Decimal(r_free) / 100,\n            Decimal(v_real),\n            Decimal(r_equity) / 100,\n            0,\n            0,\n            parse_party(party)\n        ] for [ date, v_debt, r_free, v_real, r_equity, party ]  in csvReader ]\n\nfor i in range(1, len(rows)):\n    rows[i][5] = (rows[i][1] / rows[i - 1][1]) - 1\n    rows[i][6] = (rows[i][3] / rows[i - 1][3]) - 1\n\nrows.pop()\n\nfor row in islice(rows, 5):\n    print(row)",
      "metadata": {
        "trusted": true,
        "scrolled": true
      },
      "outputs": [
        {
          "name": "stdout",
          "output_type": "stream",
          "text": "['1/1/1987', Decimal('357.67'), Decimal('0.0883'), Decimal('68.342'), Decimal('0.0525'), 0, 0, 1]\n['1/1/1988', Decimal('392.57'), Decimal('0.0914'), Decimal('73.277'), Decimal('0.1661'), Decimal('0.097575977856683535102189169'), Decimal('0.072210353808785227239472067'), 1]\n['1/1/1989', Decimal('447.98'), Decimal('0.0793'), Decimal('76.497'), Decimal('0.3169'), Decimal('0.141146801844257075171307028'), Decimal('0.043942847005199448667385401'), 1]\n['1/1/1990', Decimal('481'), Decimal('0.0808'), Decimal('75.972'), Decimal('-0.031'), Decimal('0.073708647707486941381311666'), Decimal('-0.0068630142358523863680928664'), 1]\n['1/1/1991', Decimal('568.73'), Decimal('0.0671'), Decimal('75.843'), Decimal('0.3047'), Decimal('0.182390852390852390852390852'), Decimal('-0.0016979939977886589796240720'), 1]\n"
        }
      ],
      "execution_count": 2
    },
    {
      "id": "fbfdeb10-cbe6-4e73-9fcd-279805c6edaf",
      "cell_type": "markdown",
      "source": "## Part 4\n\n### Central tendency\n\nTo answer Question 1, we need to compute geometric mean annual returns for the three indices. These statistics are measures of central tendency. We can also compute the arithmetic mean of the risk-free rate to determine the historical risk-free rate.",
      "metadata": {}
    },
    {
      "id": "968ea341-befd-4d0e-8b3f-25c66631e905",
      "cell_type": "code",
      "source": "from statistics import geometric_mean, mean\n\nr_free = float(mean(row[2] for row in rows))\nmu_equity = geometric_mean((1 + row[4]) for row in rows) - 1\nmu_debt = geometric_mean((1 + row[5]) for row in rows) - 1\nmu_real = geometric_mean((1 + row[6]) for row in rows) - 1\n\nprint(\"Historical risk-free rate:\", r_free)\nprint(\"Mean return of equity:\", mu_equity, \"Risk premium:\", mu_equity - r_free)\nprint(\"Mean return of debt:\", mu_debt, \"Risk premium:\", mu_debt - r_free)\nprint(\"Mean return of real estate:\", mu_real, \"Risk premium:\", mu_real - r_free)",
      "metadata": {
        "trusted": true
      },
      "outputs": [
        {
          "name": "stdout",
          "output_type": "stream",
          "text": "Historical risk-free rate: 0.04498055555555556\nMean return of equity: 0.10365544817440608 Risk premium: 0.058674892618850526\nMean return of debt: 0.060738076908392724 Risk premium: 0.015757521352837166\nMean return of real estate: 0.04139202480516757 Risk premium: -0.0035885307503879874\n"
        }
      ],
      "execution_count": 3
    },
    {
      "id": "33c93278-2ba7-41fa-9812-c5fcc2ad509a",
      "cell_type": "markdown",
      "source": "Interestingly, real estate has a marginally negative risk premium, suggesting that it does in fact function as a hedge against market volatility and is an asset class in its own right (at least, to the extent that it is residential real estate, and not securitized).\n\n### Dispersion\n\nTo answer Question 1, we will also need to compute the standard deviation of returns for the three indices. These statistics are measures of dispersion. We will use a traditional (arithmetic) standard deviation, rather than the corresponding geometric standard deviation, as this is the conventional measure of volatility used in the Sharpe ratio and in portfolio theory.",
      "metadata": {}
    },
    {
      "id": "1e2e6af9-22af-46b9-90ec-40128f277315",
      "cell_type": "code",
      "source": "from statistics import stdev\n\nsigma_equity = float(stdev(row[4] for row in rows))\nsigma_debt = float(stdev(row[5] for row in rows))\nsigma_real = float(stdev(row[6] for row in rows))\n\nprint(\"Standard deviation of return of equity:\", sigma_equity)\nprint(\"Standard deviation of return of debt:\", sigma_debt)\nprint(\"Standard deviation of return of real estate:\", sigma_real)",
      "metadata": {
        "trusted": true
      },
      "outputs": [
        {
          "name": "stdout",
          "output_type": "stream",
          "text": "Standard deviation of return of equity: 0.17360422172743178\nStandard deviation of return of debt: 0.07489108533275876\nStandard deviation of return of real estate: 0.05981014982248648\n"
        }
      ],
      "execution_count": 4
    },
    {
      "id": "1a5530cb-8217-409b-9eb5-eba5d29b7221",
      "cell_type": "markdown",
      "source": "### Outliers\n\nWe can test the range and extrema to determine if we have problematic outliers.",
      "metadata": {}
    },
    {
      "id": "ca393b93-c16c-46b2-be3e-be59642a8a5a",
      "cell_type": "code",
      "source": "max_equity = max(row[4] for row in rows)\nmax_debt = max(row[5] for row in rows)\nmax_real = max(row[6] for row in rows)\n\nmin_equity = min(row[4] for row in rows)\nmin_debt = min(row[5] for row in rows)\nmin_real = min(row[6] for row in rows)\n\nprint(f\"Equity: {min_equity} to {max_equity} (range: {max_equity - min_equity})\")\nprint(f\"Debt: {min_debt} to {max_debt} (range: {max_debt - min_debt})\")\nprint(f\"Real estate: {min_real} to {max_real} (range: {max_real - min_real})\")",
      "metadata": {
        "trusted": true
      },
      "outputs": [
        {
          "name": "stdout",
          "output_type": "stream",
          "text": "Equity: -0.37 to 0.3758 (range: 0.7458)\nDebt: -0.1544430389418546408469237887 to 0.215506887501668124731246571 (range: 0.3699499264435227655781703597)\nReal estate: -0.1199520007384501776895740066 to 0.188646236036082166295433404 (range: 0.3085982367745323439850074106)\n"
        }
      ],
      "execution_count": 5
    },
    {
      "id": "fa663957-d727-4ebe-be50-99c55b778800",
      "cell_type": "markdown",
      "source": "Based on these results, we do not have evidence of problematic outliers.\n\n### Sharpe ratios\n\nWe will answer Question 1 by computing geometric Sharpe ratios.",
      "metadata": {}
    },
    {
      "id": "39f01c01-8c27-448a-9109-aad1ad9480ac",
      "cell_type": "code",
      "source": "sharpe_equity = (mu_equity - r_free) / sigma_equity\nsharpe_debt = (mu_debt - r_free) / sigma_debt\nsharpe_real = (mu_real - r_free) / sigma_real\n\nprint(\"Sharpe ratio of equity:\", sharpe_equity)\nprint(\"Sharpe ratio of debt:\", sharpe_debt)\nprint(\"Sharpe ratio of real:\", sharpe_real)",
      "metadata": {
        "trusted": true,
        "scrolled": true
      },
      "outputs": [
        {
          "name": "stdout",
          "output_type": "stream",
          "text": "Sharpe ratio of equity: 0.337980793525709\nSharpe ratio of debt: 0.21040583512473857\nSharpe ratio of real: -0.059998691878194024\n"
        }
      ],
      "execution_count": 6
    },
    {
      "id": "8c5cd827-e28e-4ed5-bcf1-929f60098beb",
      "cell_type": "markdown",
      "source": "### Correlations\n\nWe will answer Question 2 by computing the correlation matrix. Later, we will visualize the matrix.",
      "metadata": {}
    },
    {
      "id": "b57259ca-b816-4a87-a993-3ac0a29d1394",
      "cell_type": "code",
      "source": "from statistics import correlation\n\naxis = ( \"Return of equity\", \"Return of debt\", \"Return of real estate\", \"Risk-free rate\", \"Party\" )\nindices = ( 4, 5, 6, 2, 7 ) \nmatrix = [\n    [\n        correlation([float(row[i]) for row in rows],\n                    [float(row[j]) for row in rows])\n        for i in indices\n    ]\n    for j in indices\n]\n\nprint(matrix)",
      "metadata": {
        "trusted": true,
        "scrolled": true
      },
      "outputs": [
        {
          "name": "stdout",
          "output_type": "stream",
          "text": "[[1.0, 0.5055878369216433, 0.2449449075836565, 0.07262788183939194, -0.20256920130932937], [0.5055878369216433, 1.0, -0.09841447569363077, 0.12867964469057028, 0.08691261967084374], [0.2449449075836565, -0.09841447569363077, 1.0, -0.13680376359158894, -0.0338759685937076], [0.07262788183939194, 0.12867964469057028, -0.13680376359158894, 1.0, 0.1812899243222519], [-0.20256920130932937, 0.08691261967084374, -0.0338759685937076, 0.1812899243222519, 1.0]]\n"
        }
      ],
      "execution_count": 7
    },
    {
      "id": "6f9201b6-210d-472f-bc35-3c70f08fd8a9",
      "cell_type": "markdown",
      "source": "### Frequency",
      "metadata": {}
    },
    {
      "id": "8d3ec200-394c-48bf-a7c6-22f8846fa3ff",
      "cell_type": "code",
      "source": "from statistics import mode\n\nprint(\"Mode of party:\", mode(row[7] for row in rows))",
      "metadata": {
        "trusted": true
      },
      "outputs": [
        {
          "name": "stdout",
          "output_type": "stream",
          "text": "Mode of party: 1\n"
        }
      ],
      "execution_count": 8
    },
    {
      "id": "f71eb841-d31a-4d89-b504-0120a38c266f",
      "cell_type": "markdown",
      "source": "There are more years with Democratic presidents than Republican presidents in the sample.\n\n### Unique values",
      "metadata": {}
    },
    {
      "id": "e6f0f1dc-a176-442b-9bb2-3e5191d2632e",
      "cell_type": "code",
      "source": "print(\"Values for party:\", set(row[7] for row in rows))",
      "metadata": {
        "trusted": true
      },
      "outputs": [
        {
          "name": "stdout",
          "output_type": "stream",
          "text": "Values for party: {0, 1}\n"
        }
      ],
      "execution_count": 9
    },
    {
      "id": "3c400a71-6d01-4e74-bd08-a0631c6a9b6a",
      "cell_type": "markdown",
      "source": "The unique values are, of course, `0` (indicating Democratic Party) and `1` (indicating Republican Party).\n\n## Part 5",
      "metadata": {}
    },
    {
      "id": "45bfa79a-bf49-4123-bcf7-44f7e944069f",
      "cell_type": "code",
      "source": "import matplotlib.pyplot as plt\n\nplt.plot([1, 2, 3, 4])\nplt.ylabel('some numbers')\nplt.show()",
      "metadata": {
        "trusted": true
      },
      "outputs": [],
      "execution_count": null
    },
    {
      "id": "8004ef3c-7265-41af-aed6-f1eb1ad06cbc",
      "cell_type": "markdown",
      "source": "TODO Describe the visualizations in the previous cell\n",
      "metadata": {}
    },
    {
      "id": "d0379eaa-2b04-4d51-8aaf-e63677e0f0c1",
      "cell_type": "markdown",
      "source": "## Part 6\n\nTODO: write your conclusion here (interpret results of calculations; does it help answer your original questions?)",
      "metadata": {}
    },
    {
      "id": "5e7e220a-82e5-4ccb-9838-f7f8f59c94bf",
      "cell_type": "code",
      "source": "",
      "metadata": {
        "trusted": true
      },
      "outputs": [],
      "execution_count": null
    }
  ]
}